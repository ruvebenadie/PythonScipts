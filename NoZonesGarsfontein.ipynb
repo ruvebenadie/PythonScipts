{
  "nbformat": 4,
  "nbformat_minor": 0,
  "metadata": {
    "colab": {
      "provenance": [],
      "mount_file_id": "13qPLxd4Ao8AHNkpZyqU0S6yHjacGdb-m",
      "authorship_tag": "ABX9TyPMLbOlGYU1nqMH+pBQqYxR",
      "include_colab_link": true
    },
    "kernelspec": {
      "name": "python3",
      "display_name": "Python 3"
    },
    "language_info": {
      "name": "python"
    }
  },
  "cells": [
    {
      "cell_type": "markdown",
      "metadata": {
        "id": "view-in-github",
        "colab_type": "text"
      },
      "source": [
        "<a href=\"https://colab.research.google.com/github/ruvebenadie/PythonScipts/blob/main/NoZonesGarsfontein.ipynb\" target=\"_parent\"><img src=\"https://colab.research.google.com/assets/colab-badge.svg\" alt=\"Open In Colab\"/></a>"
      ]
    },
    {
      "cell_type": "code",
      "execution_count": 3,
      "metadata": {
        "id": "b2X2jaod3yXn"
      },
      "outputs": [],
      "source": [
        "import pandas as pd\n",
        "import geopandas as gpd\n",
        "import numpy as np\n",
        "from geopandas import GeoDataFrame\n",
        "from shapely.geometry import LineString, LinearRing, Point\n",
        "from random import seed, random\n",
        "import time\n",
        "\n"
      ]
    },
    {
      "cell_type": "code",
      "source": [
        "\n",
        "from google.colab import drive\n",
        "drive.mount('/content/drive')\n",
        "\n",
        "\n",
        "\n",
        "# Define file location\n",
        "POINT_NAME = \"/content/drive/MyDrive/Masters/Gars_Random.csv\"\n",
        "WARD_FILE = \"/content/drive/MyDrive/Masters/garsfontein.shp\"\n",
        "NO_ZONES_FILE = \"/content/drive/MyDrive/Masters/Parks.shp\"\n",
        "\n",
        "INPUT = \"/content/drive/MyDrive/Masters/input_2053.gpkg\"\n",
        "OUTPUT = \"/content/drive/MyDrive/Masters/output_2053.gpkg\"\n",
        "\n"
      ],
      "metadata": {
        "id": "TleijUkO38ZV",
        "colab": {
          "base_uri": "https://localhost:8080/"
        },
        "outputId": "e4204667-403f-440e-fafa-34be78d74564"
      },
      "execution_count": 20,
      "outputs": [
        {
          "output_type": "stream",
          "name": "stdout",
          "text": [
            "Drive already mounted at /content/drive; to attempt to forcibly remount, call drive.mount(\"/content/drive\", force_remount=True).\n"
          ]
        }
      ]
    },
    {
      "cell_type": "code",
      "source": [
        "# Define variables\n",
        "min_dist = 67.73\n",
        "max_dist = 95.78\n",
        "buffer_dist = []\n",
        "\n",
        "min_bearing = 0\n",
        "max_bearing = 360\n",
        "bearing = []"
      ],
      "metadata": {
        "id": "LO2XZ_Sx7XQa"
      },
      "execution_count": 21,
      "outputs": []
    },
    {
      "cell_type": "code",
      "source": [
        "# seed random number generator\n",
        "seed(1)\n",
        "\n",
        "# Check if point is in no zones\n",
        "def check_noZones(point):\n",
        "    flag = True\n",
        "\n",
        "    for index, row in nozones_df.iterrows():\n",
        "        if (point.within(row.geometry)):\n",
        "            flag = False\n",
        "\n",
        "    return flag\n",
        "\n",
        "# Function to determine the point within the min and max distance at a random bearing\n",
        "def find_point(row):\n",
        "    x = row.geometry.x\n",
        "    y = row.geometry.y\n",
        "    wardID = row.COMPNT_NM\n",
        "    geom = wards_new['geometry'].loc[wards_new['COMPNT_NM'] == wardID].iat[0]\n",
        "    i = 0\n",
        "\n",
        "    while True:\n",
        "        i =+ 1\n",
        "\n",
        "        # Get random values\n",
        "        buff_value = random()\n",
        "        bearing_value = random()\n",
        "        scaled_buff = min_dist + (buff_value * (max_dist - min_dist))\n",
        "        scaled_bearing = min_bearing + (bearing_value * (max_bearing - min_bearing))\n",
        "\n",
        "        # Algorithm for moving the point within the min and max buffer at a specified baering\n",
        "        polygon = row.geometry.buffer(scaled_buff)\n",
        "\n",
        "        east, south, west, north = polygon.bounds\n",
        "        line_length = max(abs(east-west), abs(north-south)) * 2\n",
        "\n",
        "        new_x = x + (np.sin(np.deg2rad(scaled_bearing)) * line_length)\n",
        "        new_y = y + (np.cos(np.deg2rad(scaled_bearing)) * line_length)\n",
        "\n",
        "        l = LineString([[x,y], [new_x, new_y]])\n",
        "        lr = LinearRing(polygon.exterior.coords)\n",
        "        intersections = lr.intersection(l)\n",
        "\n",
        "        if (intersections.within(geom)) and check_noZones(intersections):\n",
        "            return intersections.x, intersections.y\n",
        "        elif (i == 500):\n",
        "            return intersections.x, intersections.y"
      ],
      "metadata": {
        "id": "K2Q2CmNh7bZX"
      },
      "execution_count": 22,
      "outputs": []
    },
    {
      "cell_type": "code",
      "source": [
        "# Switch of copy df warning\n",
        "pd.set_option('mode.chained_assignment', None)\n",
        "\n",
        "# Load the Citizen CSV as a pandas dataframe, but only selected columns\n",
        "crime_df = pd.read_csv(POINT_NAME, delimiter=\",\", low_memory=False)\n",
        "print('Point layer successfully imported')\n"
      ],
      "metadata": {
        "colab": {
          "base_uri": "https://localhost:8080/"
        },
        "id": "7cRJeGUK7fAB",
        "outputId": "5351d42f-24f6-4a69-fd74-da9679842a79"
      },
      "execution_count": 23,
      "outputs": [
        {
          "output_type": "stream",
          "name": "stdout",
          "text": [
            "Point layer successfully imported\n"
          ]
        }
      ]
    },
    {
      "cell_type": "code",
      "source": [
        "# Load the Wards SHP as a geopandas dataframe\n",
        "\n",
        "wards_df = gpd.read_file(WARD_FILE)\n",
        "wards_df.crs = {'init' :'epsg:4326'}\n",
        "print('Polygon layer successfully imported')\n"
      ],
      "metadata": {
        "colab": {
          "base_uri": "https://localhost:8080/"
        },
        "id": "pQlu1nyS8Khf",
        "outputId": "8cd5738b-7780-4737-fdad-a9db2ede3e66"
      },
      "execution_count": 24,
      "outputs": [
        {
          "output_type": "stream",
          "name": "stdout",
          "text": [
            "Polygon layer successfully imported\n"
          ]
        },
        {
          "output_type": "stream",
          "name": "stderr",
          "text": [
            "/usr/local/lib/python3.10/dist-packages/pyproj/crs/crs.py:141: FutureWarning: '+init=<authority>:<code>' syntax is deprecated. '<authority>:<code>' is the preferred initialization method. When making the change, be mindful of axis order changes: https://pyproj4.github.io/pyproj/stable/gotchas.html#axis-order-changes-in-proj-6\n",
            "  in_crs_string = _prepare_from_proj_string(in_crs_string)\n"
          ]
        }
      ]
    },
    {
      "cell_type": "code",
      "source": [
        "# Load the no zones SHP as a geopandas dataframe\n",
        "nozones_df = gpd.read_file(NO_ZONES_FILE)\n",
        "nozones_df = nozones_df.to_crs({'init': 'epsg:2053'})\n",
        "print('No zones layer successfully imported')"
      ],
      "metadata": {
        "colab": {
          "base_uri": "https://localhost:8080/"
        },
        "id": "C81dMv5T8ToM",
        "outputId": "9da913d9-2900-455d-b578-f67e07bf7550"
      },
      "execution_count": 25,
      "outputs": [
        {
          "output_type": "stream",
          "name": "stdout",
          "text": [
            "No zones layer successfully imported\n"
          ]
        },
        {
          "output_type": "stream",
          "name": "stderr",
          "text": [
            "/usr/local/lib/python3.10/dist-packages/pyproj/crs/crs.py:141: FutureWarning: '+init=<authority>:<code>' syntax is deprecated. '<authority>:<code>' is the preferred initialization method. When making the change, be mindful of axis order changes: https://pyproj4.github.io/pyproj/stable/gotchas.html#axis-order-changes-in-proj-6\n",
            "  in_crs_string = _prepare_from_proj_string(in_crs_string)\n"
          ]
        }
      ]
    },
    {
      "cell_type": "code",
      "source": [
        "# Convert the lat and long of the point layer to float\n",
        "crime_df[['latitude', 'longitude']] = crime_df[['latitude', 'longitude']].astype(float)\n",
        "\n"
      ],
      "metadata": {
        "id": "f1-oi4_I8YTn"
      },
      "execution_count": 26,
      "outputs": []
    },
    {
      "cell_type": "code",
      "source": [
        "# Convert the lat long to a point and add it into a geopandas dataframe\n",
        "geometry = [Point(xy) for xy in zip(crime_df['longitude'], crime_df['latitude'])]\n",
        "crs = {'init': 'epsg:4326'}\n",
        "geo_df = GeoDataFrame(crime_df, crs=crs, geometry=geometry)\n",
        "print('Point layer converted to spatial df')\n"
      ],
      "metadata": {
        "colab": {
          "base_uri": "https://localhost:8080/"
        },
        "id": "prWrZlwz8g4d",
        "outputId": "a2199e0e-9b1b-4094-c96d-31e5c5601590"
      },
      "execution_count": 27,
      "outputs": [
        {
          "output_type": "stream",
          "name": "stdout",
          "text": [
            "Point layer converted to spatial df\n"
          ]
        },
        {
          "output_type": "stream",
          "name": "stderr",
          "text": [
            "/usr/local/lib/python3.10/dist-packages/pyproj/crs/crs.py:141: FutureWarning: '+init=<authority>:<code>' syntax is deprecated. '<authority>:<code>' is the preferred initialization method. When making the change, be mindful of axis order changes: https://pyproj4.github.io/pyproj/stable/gotchas.html#axis-order-changes-in-proj-6\n",
            "  in_crs_string = _prepare_from_proj_string(in_crs_string)\n"
          ]
        }
      ]
    },
    {
      "cell_type": "code",
      "source": [
        "# Merge the wards into a single polygon\n",
        "cot = wards_df.geometry.unary_union"
      ],
      "metadata": {
        "id": "qA16rbBs8oHj"
      },
      "execution_count": 28,
      "outputs": []
    },
    {
      "cell_type": "code",
      "source": [
        "# Select all points within CoT\n",
        "within_cot = geo_df[geo_df.geometry.within(cot)]\n",
        "print(within_cot)"
      ],
      "metadata": {
        "colab": {
          "base_uri": "https://localhost:8080/"
        },
        "id": "g5Ox7vY09A9a",
        "outputId": "8eb65250-790c-4ecc-c003-f3a2862a03a5"
      },
      "execution_count": 29,
      "outputs": [
        {
          "output_type": "stream",
          "name": "stdout",
          "text": [
            "      latitude  longitude  area_in_me  confidence                    geometry  \\\n",
            "0   -25.810011  28.325399     17.7579      0.6749  POINT (28.32540 -25.81001)   \n",
            "1   -25.781878  28.312204     28.2124      0.7497  POINT (28.31220 -25.78188)   \n",
            "2   -25.778031  28.308398     52.7034      0.7559  POINT (28.30840 -25.77803)   \n",
            "3   -25.761809  28.308801    253.1738      0.8345  POINT (28.30880 -25.76181)   \n",
            "4   -25.762018  28.317482    255.2446      0.7888  POINT (28.31748 -25.76202)   \n",
            "..         ...        ...         ...         ...                         ...   \n",
            "302 -25.807710  28.307493     10.5362      0.6263  POINT (28.30749 -25.80771)   \n",
            "303 -25.764565  28.278199     35.0083      0.7170  POINT (28.27820 -25.76456)   \n",
            "304 -25.783017  28.324970     61.3267      0.7660  POINT (28.32497 -25.78302)   \n",
            "305 -25.782360  28.317922     24.9887      0.6658  POINT (28.31792 -25.78236)   \n",
            "306 -25.820758  28.286890     58.0256      0.7000  POINT (28.28689 -25.82076)   \n",
            "\n",
            "        full_plus_  \n",
            "0    5G6C58QG+X5RH  \n",
            "1    5G6C6896+6VWW  \n",
            "2    5G6C68C5+Q9JP  \n",
            "3    5G6C68Q5+7GFP  \n",
            "4    5G6C68Q8+5XX7  \n",
            "..             ...  \n",
            "302  5G6C58R4+WX9Q  \n",
            "303  5G6C67PH+57GF  \n",
            "304  5G6C688F+QXX6  \n",
            "305  5G6C6899+353P  \n",
            "306  5G6C57HP+MQRM  \n",
            "\n",
            "[307 rows x 6 columns]\n"
          ]
        }
      ]
    },
    {
      "cell_type": "code",
      "source": [],
      "metadata": {
        "id": "goSuppX-9i7Z"
      },
      "execution_count": 15,
      "outputs": []
    },
    {
      "cell_type": "code",
      "source": [
        "# Save adjusted files to be\n",
        "within_cot.to_file(INPUT, driver=\"GPKG\")\n",
        "print('Adjusted input files written to geopackage')\n",
        "\n",
        "wards_new = wards_df.to_crs({'init': 'epsg:2053'})\n",
        "\n",
        "# Adding polygon information to the points layer\n",
        "merging = gpd.sjoin(within_cot, wards_df, how=\"left\", op=\"within\")\n",
        "\n",
        "# Create a copy of the within_cot dataframe and change projection to UTM 35S WGS84 - units:meters\n",
        "moved_point = within_cot.copy()\n",
        "moved_point = moved_point.to_crs({'init': 'epsg:2053'})\n",
        "merging = merging.to_crs({'init': 'epsg:2053'})\n",
        "\n",
        "# Call the find_point function\n",
        "moved_point['geometry'] = [Point(xy) for xy in zip(merging.apply(find_point, axis=1))]\n",
        "\n",
        "# Change projection to WGS84 (SRID 4326)\n",
        "moved_point = moved_point.to_crs({'init': 'epsg:4326'})\n",
        "\n",
        "# Final results written out\n",
        "moved_point.to_file(OUTPUT, driver=\"GPKG\")\n",
        "print('Output file is out into output geopackage')"
      ],
      "metadata": {
        "colab": {
          "base_uri": "https://localhost:8080/"
        },
        "id": "-qdSIz049ddZ",
        "outputId": "b778333e-f1c4-4b8c-c68d-1b4e032d47f6"
      },
      "execution_count": 30,
      "outputs": [
        {
          "output_type": "stream",
          "name": "stdout",
          "text": [
            "Adjusted input files written to geopackage\n"
          ]
        },
        {
          "output_type": "stream",
          "name": "stderr",
          "text": [
            "/usr/local/lib/python3.10/dist-packages/pyproj/crs/crs.py:141: FutureWarning: '+init=<authority>:<code>' syntax is deprecated. '<authority>:<code>' is the preferred initialization method. When making the change, be mindful of axis order changes: https://pyproj4.github.io/pyproj/stable/gotchas.html#axis-order-changes-in-proj-6\n",
            "  in_crs_string = _prepare_from_proj_string(in_crs_string)\n",
            "/usr/local/lib/python3.10/dist-packages/IPython/core/interactiveshell.py:3473: FutureWarning: The `op` parameter is deprecated and will be removed in a future release. Please use the `predicate` parameter instead.\n",
            "  if (await self.run_code(code, result,  async_=asy)):\n",
            "/usr/local/lib/python3.10/dist-packages/pyproj/crs/crs.py:141: FutureWarning: '+init=<authority>:<code>' syntax is deprecated. '<authority>:<code>' is the preferred initialization method. When making the change, be mindful of axis order changes: https://pyproj4.github.io/pyproj/stable/gotchas.html#axis-order-changes-in-proj-6\n",
            "  in_crs_string = _prepare_from_proj_string(in_crs_string)\n",
            "/usr/local/lib/python3.10/dist-packages/pyproj/crs/crs.py:141: FutureWarning: '+init=<authority>:<code>' syntax is deprecated. '<authority>:<code>' is the preferred initialization method. When making the change, be mindful of axis order changes: https://pyproj4.github.io/pyproj/stable/gotchas.html#axis-order-changes-in-proj-6\n",
            "  in_crs_string = _prepare_from_proj_string(in_crs_string)\n"
          ]
        },
        {
          "output_type": "stream",
          "name": "stdout",
          "text": [
            "Output file is out into output geopackage\n"
          ]
        }
      ]
    }
  ]
}